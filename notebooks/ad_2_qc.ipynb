{
 "cells": [
  {
   "cell_type": "code",
   "execution_count": null,
   "metadata": {},
   "outputs": [],
   "source": [
    "%matplotlib inline\n",
    "import pandas as pd\n",
    "import matplotlib\n",
    "from matplotlib import pyplot as plt\n",
    "import numpy as np\n",
    "import seaborn as sns\n",
    "import sys\n",
    "import os\n",
    "import scanpy as sp\n",
    "import anndata as an\n",
    "sns.set(style='white',font_scale= 1.25)"
   ]
  },
  {
   "cell_type": "code",
   "execution_count": null,
   "metadata": {},
   "outputs": [],
   "source": [
    "th = {\n",
    "    '9915':0.2,\n",
    "    '0527':0.2,\n",
    "    '0406':0.4,\n",
    "    '1349':0.25,\n",
    "    '1369':0.2,\n",
    "    '1578':0.35,\n",
    "    '1354':0.25,\n",
    "    '1237':0.25,\n",
    "    '1750':0.18,\n",
    "    '1527':0.32,\n",
    "    '1611':0.2,\n",
    "    '1402':0.2,\n",
    "    '1630':0.18,\n",
    "    '1114':0.25,\n",
    "    '0354':0.18,\n",
    "    '1864':0.2,\n",
    "    '0444':0.2,\n",
    "    '1159':0.2,\n",
    "    '1629':0.2,\n",
    "    '1227':0.2,\n",
    "    '1372':0.2,\n",
    "    '1849':0.3,\n",
    "    '1828':0.2,\n",
    "    '1868':0.2,\n",
    "    '1342':0.2,\n",
    "    '1820':0.2,\n",
    "    '1875':0.3,\n",
    "    '1862':0.4,\n",
    "    '1244':0.2,\n",
    "    '1560':0.2,\n",
    "    '1046':0.2,\n",
    "    '0552':0.22,\n",
    "    '1420':0.3,\n",
    "    '1414':0.25\n",
    "}"
   ]
  },
  {
   "cell_type": "markdown",
   "metadata": {},
   "source": [
    "#### Reading the data"
   ]
  },
  {
   "cell_type": "code",
   "execution_count": null,
   "metadata": {},
   "outputs": [],
   "source": [
    "path = '../ad/'\n",
    "D = an.read_h5ad(path + 'ad_raw_doublet_scores.h5ad')\n",
    "D.shape"
   ]
  },
  {
   "cell_type": "markdown",
   "metadata": {},
   "source": [
    "#### Plotting doublet scores"
   ]
  },
  {
   "cell_type": "code",
   "execution_count": null,
   "metadata": {},
   "outputs": [],
   "source": [
    "ii=0\n",
    "A = D.obs.copy()\n",
    "plt.figure(figsize=(24,16))\n",
    "for sample in A['sample'].unique():\n",
    "    ii+=1\n",
    "    plt.subplot(6,6,ii)\n",
    "    plt.title('sample: ' + sample)\n",
    "    a = A[A['sample']==sample]['ds']\n",
    "    plt.hist(a,bins=50,range=(0,1),label='doublet score hist.',color='k')\n",
    "    plt.xlabel('doublet score')\n",
    "    plt.ylabel('number of cells')\n",
    "    plt.axvline(th[sample],c='r',label='doublet score threhold')\n",
    "    plt.text(th[sample]*1.1,100,str(th[sample]))\n",
    "plt.tight_layout()\n",
    "sns.despine()"
   ]
  },
  {
   "cell_type": "markdown",
   "metadata": {},
   "source": [
    "#### Removing doublets"
   ]
  },
  {
   "cell_type": "code",
   "execution_count": null,
   "metadata": {},
   "outputs": [],
   "source": [
    "A = D.obs.copy()\n",
    "A['ts'] = A.apply(lambda x: x['ds']>=th[x['sample']], axis = 1)"
   ]
  },
  {
   "cell_type": "code",
   "execution_count": null,
   "metadata": {},
   "outputs": [],
   "source": [
    "D.obs =  A.copy()\n",
    "D = D[~D.obs['ts'],:]"
   ]
  },
  {
   "cell_type": "code",
   "execution_count": null,
   "metadata": {},
   "outputs": [],
   "source": [
    "print(D.shape)"
   ]
  },
  {
   "cell_type": "markdown",
   "metadata": {},
   "source": [
    "#### Defining QC genes"
   ]
  },
  {
   "cell_type": "code",
   "execution_count": null,
   "metadata": {},
   "outputs": [],
   "source": [
    "D.var['mt'] = D.var_names.str.startswith('MT-')\n",
    "D.var['rb'] = D.var_names.str.startswith('RPL') | D.var_names.str.startswith('RPS') | D.var_names.str.startswith('MRPL') | D.var_names.str.startswith('MRPS')\n",
    "D.var['ercc'] = D.var_names.str.startswith('ERCC')\n",
    "D.var['qc'] = D.var['mt'] | D.var['rb']"
   ]
  },
  {
   "cell_type": "markdown",
   "metadata": {},
   "source": [
    "#### Defining PC genes"
   ]
  },
  {
   "cell_type": "code",
   "execution_count": null,
   "metadata": {},
   "outputs": [],
   "source": [
    "gene_db = pd.read_csv(path + 'Homo_sapiens.GRCh38.101.chr_3.csv',sep=',')\n",
    "pc = set(list(gene_db[gene_db['gene_biotype']=='protein_coding']['gene_name']))"
   ]
  },
  {
   "cell_type": "code",
   "execution_count": null,
   "metadata": {},
   "outputs": [],
   "source": [
    "D.var = D.var.reset_index()\n",
    "D.var['pc'] = D.var.apply(lambda x: (x['index'] in pc) or (x['index'][:-2] in pc), axis = 1)\n",
    "print(D.var['pc'].sum())\n",
    "D.var = D.var.set_index('index')"
   ]
  },
  {
   "cell_type": "markdown",
   "metadata": {},
   "source": [
    "#### Calculating and plotting QC metrics"
   ]
  },
  {
   "cell_type": "code",
   "execution_count": null,
   "metadata": {},
   "outputs": [],
   "source": [
    "sp.pp.calculate_qc_metrics(D, qc_vars=['mt','rb','ercc'], percent_top=None, log1p=False, inplace=True)"
   ]
  },
  {
   "cell_type": "code",
   "execution_count": null,
   "metadata": {},
   "outputs": [],
   "source": [
    "a = D.obs\n",
    "a = a.sort_values('sample')\n",
    "b = a.groupby('sample')[['n_genes_by_counts','total_counts','pct_counts_mt','pct_counts_rb','pct_counts_ercc']].mean()\n",
    "plt.figure(figsize=(24,6))\n",
    "ii=0\n",
    "for col in b.columns:\n",
    "    ii+=1\n",
    "    plt.subplot(1,5,ii)\n",
    "    plt.barh(range(len(b)),b[col],color='k')\n",
    "    plt.yticks(range(len(b)),list(b.index))\n",
    "    plt.xlabel(col.replace('_',' '))\n",
    "plt.tight_layout()\n",
    "sns.despine()"
   ]
  },
  {
   "cell_type": "code",
   "execution_count": null,
   "metadata": {},
   "outputs": [],
   "source": [
    "plt.figure(figsize=(24,6))\n",
    "plt.subplot(1,4,1)\n",
    "plt.hist(np.log(D.obs['total_counts'])/np.log(10),bins=100)\n",
    "plt.xlabel('total_counts (log)')\n",
    "plt.ylabel('numbder of cells')\n",
    "plt.subplot(1,4,2)\n",
    "plt.hist(np.log(D.obs['n_genes_by_counts'])/np.log(10),bins=100)\n",
    "plt.xlabel('n_genes_by_counts (log)')\n",
    "plt.ylabel('numbder of cells')\n",
    "plt.subplot(1,4,3)\n",
    "plt.scatter(D.obs['pct_counts_rb'],D.obs['pct_counts_mt'],s=1)\n",
    "plt.xlim(-1,)\n",
    "plt.ylim(-1,)\n",
    "plt.subplot(1,4,4)\n",
    "plt.hist(D.obs['pct_counts_mt'],bins=40,range=(0,40))\n",
    "plt.xlim(0,40)\n",
    "plt.xlabel('pct_counts_mt')\n",
    "plt.tight_layout()\n",
    "sns.despine()"
   ]
  },
  {
   "cell_type": "markdown",
   "metadata": {},
   "source": [
    "#### QC filtering"
   ]
  },
  {
   "cell_type": "code",
   "execution_count": null,
   "metadata": {},
   "outputs": [],
   "source": [
    "sp.pp.filter_genes(D, min_cells=2)\n",
    "D = D[D.obs.total_counts >= 1000, :]\n",
    "D = D[D.obs.n_genes_by_counts >= 500, :]\n",
    "D = D[D.obs.pct_counts_mt < 10, :]\n",
    "D = D[D.obs.pct_counts_rb < 10, :]"
   ]
  },
  {
   "cell_type": "code",
   "execution_count": null,
   "metadata": {},
   "outputs": [],
   "source": [
    "plt.figure(figsize=(24,6))\n",
    "plt.subplot(1,4,1)\n",
    "plt.hist(np.log(D.obs['total_counts'])/np.log(10),bins=20,color='k')\n",
    "plt.xlabel('log10(total counts)')\n",
    "plt.ylabel('numbder of cells')\n",
    "plt.subplot(1,4,2)\n",
    "plt.hist(np.log(D.obs['n_genes_by_counts'])/np.log(10),bins=20,color='k')\n",
    "plt.xlabel('log10(number of genes per cell)')\n",
    "plt.ylabel('numbder of cells')\n",
    "plt.subplot(1,4,3)\n",
    "plt.hist(D.obs['pct_counts_rb'],bins=40,range=(0,40), color = 'k')\n",
    "plt.xlim(0,10)\n",
    "plt.xlabel('pct. of ribu. counts')\n",
    "plt.xlim(0,)\n",
    "plt.ylim(0,)\n",
    "plt.subplot(1,4,4)\n",
    "plt.hist(D.obs['pct_counts_mt'],bins=40,range=(0,40), color = 'k')\n",
    "plt.xlim(0,10)\n",
    "plt.xlabel('pct. of mito. counts')\n",
    "plt.ylabel('numbder of cells')\n",
    "sns.despine()\n",
    "plt.tight_layout()"
   ]
  },
  {
   "cell_type": "code",
   "execution_count": null,
   "metadata": {},
   "outputs": [],
   "source": [
    "D_raw = D.copy()\n",
    "sp.pp.normalize_total(D, target_sum=1e4)\n",
    "sp.pp.log1p(D)\n",
    "print(D.shape)"
   ]
  },
  {
   "cell_type": "markdown",
   "metadata": {},
   "source": [
    "#### HVG selection"
   ]
  },
  {
   "cell_type": "code",
   "execution_count": null,
   "metadata": {},
   "outputs": [],
   "source": [
    "D_ = D.copy()\n",
    "sp.pp.highly_variable_genes(D_,n_top_genes=5000)\n",
    "sp.pl.highly_variable_genes(D_)\n",
    "sns.despine()"
   ]
  },
  {
   "cell_type": "code",
   "execution_count": null,
   "metadata": {},
   "outputs": [],
   "source": [
    "D_ = D_[:, D_.var.highly_variable]\n",
    "D_.shape"
   ]
  },
  {
   "cell_type": "markdown",
   "metadata": {},
   "source": [
    "#### PCA"
   ]
  },
  {
   "cell_type": "code",
   "execution_count": null,
   "metadata": {},
   "outputs": [],
   "source": [
    "sp.tl.pca(D_, svd_solver='arpack',n_comps=48)"
   ]
  },
  {
   "cell_type": "code",
   "execution_count": null,
   "metadata": {},
   "outputs": [],
   "source": [
    "sp.pl.pca_variance_ratio(D_, log=True,n_pcs=48)"
   ]
  },
  {
   "cell_type": "code",
   "execution_count": null,
   "metadata": {},
   "outputs": [],
   "source": [
    "sp.pl.pca_variance_ratio(D_, log=False,n_pcs=48)\n",
    "sns.despine()"
   ]
  },
  {
   "cell_type": "code",
   "execution_count": null,
   "metadata": {},
   "outputs": [],
   "source": [
    "plt.figure(figsize=(6,6))\n",
    "plt.scatter(list(range(48)),100*D_.uns['pca']['variance_ratio'],c='k')\n",
    "sns.despine()\n",
    "plt.ylabel('explained variance ratio (%)')\n",
    "plt.xlabel('# PCA')"
   ]
  },
  {
   "cell_type": "markdown",
   "metadata": {},
   "source": [
    "#### Batch correction"
   ]
  },
  {
   "cell_type": "code",
   "execution_count": null,
   "metadata": {},
   "outputs": [],
   "source": [
    "D_bbknn = D_"
   ]
  },
  {
   "cell_type": "code",
   "execution_count": null,
   "metadata": {},
   "outputs": [],
   "source": [
    "import bbknn"
   ]
  },
  {
   "cell_type": "markdown",
   "metadata": {},
   "source": [
    "#### Umap, Leiden clustering and call type annotation"
   ]
  },
  {
   "cell_type": "code",
   "execution_count": null,
   "metadata": {},
   "outputs": [],
   "source": [
    "bbknn.bbknn(D_bbknn, batch_key='sample', n_pcs=20,neighbors_within_batch=1)"
   ]
  },
  {
   "cell_type": "code",
   "execution_count": null,
   "metadata": {},
   "outputs": [],
   "source": [
    "sp.tl.umap(D_bbknn,min_dist=0.3)"
   ]
  },
  {
   "cell_type": "code",
   "execution_count": null,
   "metadata": {},
   "outputs": [],
   "source": [
    "sp.tl.leiden(D_bbknn)\n",
    "D_bbknn.obs['cluster'] = D_bbknn.obs['leiden']\n",
    "del D_bbknn.obs['leiden']"
   ]
  },
  {
   "cell_type": "code",
   "execution_count": null,
   "metadata": {},
   "outputs": [],
   "source": [
    "markers = {\n",
    "'Exci. Neurons':'SLC17A7',\n",
    "'Inhi. Neurons':'GAD1',\n",
    "'Oligo.':'MOG',\n",
    "'Endo. cells': 'CLDN5',\n",
    "'Astrocytes':'AQP4',\n",
    "'Microglia':'CD74',\n",
    "}"
   ]
  },
  {
   "cell_type": "code",
   "execution_count": null,
   "metadata": {},
   "outputs": [],
   "source": [
    "A = D_bbknn.obs.copy()\n",
    "for marker in markers:\n",
    "    g = markers[marker]\n",
    "    A[marker] = D.obs_vector(g)\n",
    "A = A[['cluster']+list(markers.keys())]\n",
    "M = A.groupby('cluster').mean()\n",
    "labels = {}\n",
    "for index,x in M.iterrows():\n",
    "    cluster = index\n",
    "    max_ = 0\n",
    "    label = ''\n",
    "    for marker in markers:\n",
    "        if x[marker]>max_:\n",
    "            max_ = x[marker]\n",
    "            label = marker\n",
    "    labels[cluster] = label   \n",
    "D_bbknn.obs['cell_type'] = D_bbknn.obs.apply(lambda x: labels[x['cluster']], axis = 1)"
   ]
  },
  {
   "cell_type": "code",
   "execution_count": null,
   "metadata": {},
   "outputs": [],
   "source": [
    "# manual annotation based on key markers, this should be adjusted according to cluster numbering\n",
    "def subcluster(d):\n",
    "    cell_type_ = []\n",
    "    for index,x in d.obs.iterrows():\n",
    "        if x['cell_type']=='Exci. Neurons':\n",
    "            if int(x['cluster'])==17:\n",
    "                cell_type_.append('en3')\n",
    "            elif (int(x['cluster'])==23) or (int(x['cluster'])==19):\n",
    "                cell_type_.append('en2')\n",
    "            else:\n",
    "                cell_type_.append('en1')\n",
    "        elif x['cell_type']=='Inhi. Neurons':\n",
    "            if (int(x['cluster'])==16) or (int(x['cluster'])==18) :\n",
    "                cell_type_.append('i1')\n",
    "            elif (int(x['cluster'])==9):\n",
    "                cell_type_.append('i2')\n",
    "            else:\n",
    "                cell_type_.append('i3')\n",
    "        else:\n",
    "            cell_type_.append(x['cell_type'].lower())\n",
    "    d.obs['cell_type_sub'] = cell_type_\n",
    "    return d.obs"
   ]
  },
  {
   "cell_type": "code",
   "execution_count": null,
   "metadata": {},
   "outputs": [],
   "source": [
    "D_bbknn.obs = subcluster(D_bbknn)"
   ]
  },
  {
   "cell_type": "code",
   "execution_count": null,
   "metadata": {},
   "outputs": [],
   "source": [
    "D_bbknn.obs.columns"
   ]
  },
  {
   "cell_type": "code",
   "execution_count": null,
   "metadata": {},
   "outputs": [],
   "source": [
    "from numpy import random\n",
    "def color(X,A,att,siz=10,cmap={},th=0,alpha=1,annotate=False,legend=True,sample=10000000000):\n",
    "        colors = ['#e6194b', '#3cb44b', '#ffe119', '#4363d8', '#f58231', '#911eb4', '#46f0f0', '#f032e6', '#bcf60c', '#fabebe', '#008080', '#e6beff', '#9a6324', '#fffac8', '#800000', '#aaffc3', '#808000', '#ffd8b1', '#000075', '#808080', '#ffffff', '#000000']\n",
    "        X_ = X ; att_ = A\n",
    "        d = set(att_.sort_values(att)[att])\n",
    "        if len(cmap)==0:\n",
    "            cmap = {} ; i = -1\n",
    "            for val in d:\n",
    "                if val not in cmap:\n",
    "                    if val !='nan': i+=1 ; cmap[val] = colors[i%len(colors)]\n",
    "                    else: cmap[val] = '#000000'\n",
    "        for key in cmap:\n",
    "            s = (att_[att] == key)\n",
    "            if s.sum()>th:\n",
    "                x = X_[s,:]\n",
    "                if s.sum()<sample:\n",
    "                    plt.scatter(x[:,0],x[:,1],color=cmap[key],label=key,s=siz,alpha=alpha)\n",
    "                else:\n",
    "                    number_of_rows = s.sum()\n",
    "                    random_indices = np.random.choice(number_of_rows, size=sample, replace=False)\n",
    "                    x_ = x[random_indices,:]\n",
    "                    plt.scatter(x_[:,0],x_[:,1],color=cmap[key],label=key,s=siz,alpha=alpha)\n",
    "                if annotate:\n",
    "                    mx = x[:,0].mean()\n",
    "                    my = x[:,1].mean()\n",
    "                    plt.text(mx,my,key, bbox=dict(facecolor='white', alpha=0.75,boxstyle=\"round\"))\n",
    "        if legend:\n",
    "            plt.legend(markerscale=6,framealpha=0.5,bbox_to_anchor=(1.05,1))\n",
    "\n",
    "\n",
    "def color_real(X,A,att,siz=10,alpha=0.8):\n",
    "        colors = sns.color_palette(\"tab10\")\n",
    "        palette = sns.color_palette(\"Reds\",10)\n",
    "        y = np.array(list(A[att]))\n",
    "        y = (y - y.min())/(y.max() - y.min())\n",
    "        color = []\n",
    "        for y_ in y:\n",
    "            if y_ == 0: color.append('#bdc3c7')\n",
    "            else:\n",
    "                idx = int(y_*10-0.000000000001)\n",
    "                color.append(palette[idx])\n",
    "        R = pd.DataFrame({'x':X[:,0],'y':X[:,1],'c':color,'z':y})\n",
    "        R = R.sort_values('z').reset_index()\n",
    "        plt.scatter(R['x'],R['y'],c=R['c'],s=siz,alpha=alpha)            "
   ]
  },
  {
   "cell_type": "code",
   "execution_count": null,
   "metadata": {},
   "outputs": [],
   "source": [
    "plt.figure(figsize=(32,8))\n",
    "D0 = D_bbknn\n",
    "plt.subplot(1,4,1)\n",
    "color(D0.obsm['X_umap'],D0.obs,'cluster',legend=False,annotate=True)\n",
    "sns.despine()\n",
    "plt.subplot(1,4,2)\n",
    "color(D0.obsm['X_umap'],D0.obs,'cell_type',legend=False,annotate=True)\n",
    "plt.subplot(1,4,3)\n",
    "color(D0.obsm['X_umap'],D0.obs,'cell_type_sub',legend=False,annotate=True)\n",
    "plt.subplot(1,4,4)\n",
    "color(D0.obsm['X_umap'],D0.obs,'sample',legend=False,annotate=False)\n",
    "sns.despine()"
   ]
  },
  {
   "cell_type": "code",
   "execution_count": null,
   "metadata": {},
   "outputs": [],
   "source": [
    "D_bbknn.obs['sample'].value_counts()"
   ]
  },
  {
   "cell_type": "code",
   "execution_count": null,
   "metadata": {},
   "outputs": [],
   "source": [
    "meta = pd.read_pickle(path + 'meta.pkl')\n",
    "A = D_bbknn.obs.copy()\n",
    "if 'index' in A.columns:\n",
    "    del A['index']\n",
    "if 'level_0' in A.columns:\n",
    "    del A['level_0']\n",
    "A = A.reset_index().reset_index().set_index('sample')\n",
    "A['cell_id'] = A['level_0']\n",
    "del A['level_0']\n",
    "del A['type']\n",
    "A = A.join(meta)\n",
    "A = A.reset_index().set_index('index').sort_values('cell_id')"
   ]
  },
  {
   "cell_type": "code",
   "execution_count": null,
   "metadata": {},
   "outputs": [],
   "source": [
    "D_bbknn.obs = A.copy()"
   ]
  },
  {
   "cell_type": "code",
   "execution_count": null,
   "metadata": {},
   "outputs": [],
   "source": [
    "D_raw.obs = D_bbknn.obs.copy()\n",
    "D_raw.obsm = D_bbknn.obsm.copy()\n",
    "D_raw.uns = D_bbknn.uns.copy()\n",
    "D.obs = D_bbknn.obs.copy()\n",
    "D.obsm = D_bbknn.obsm.copy()\n",
    "D.uns = D_bbknn.uns.copy()\n",
    "D.write(path + 'ad_cpm_annotated.h5ad')\n",
    "D_raw.write(path + 'ad_raw_annotated.h5ad')\n",
    "D_bbknn.write(path + 'ad_red_annotated.h5ad')"
   ]
  }
 ],
 "metadata": {
  "kernelspec": {
   "display_name": "Python 3 (ipykernel)",
   "language": "python",
   "name": "python3"
  },
  "language_info": {
   "codemirror_mode": {
    "name": "ipython",
    "version": 3
   },
   "file_extension": ".py",
   "mimetype": "text/x-python",
   "name": "python",
   "nbconvert_exporter": "python",
   "pygments_lexer": "ipython3",
   "version": "3.9.12"
  }
 },
 "nbformat": 4,
 "nbformat_minor": 4
}

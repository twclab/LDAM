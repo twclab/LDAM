{
 "cells": [
  {
   "cell_type": "code",
   "execution_count": null,
   "id": "4643382a-daef-4593-bc6d-86c4c0b697a5",
   "metadata": {},
   "outputs": [],
   "source": [
    "import sys\n",
    "import os\n",
    "import scrublet as scr\n",
    "import anndata as an"
   ]
  },
  {
   "cell_type": "code",
   "execution_count": null,
   "id": "06373038-b335-454e-806a-ac24c84d89fc",
   "metadata": {},
   "outputs": [],
   "source": [
    "path = '../ad/'\n",
    "D = an.read_h5ad(path + 'ad_raw.h5ad')"
   ]
  },
  {
   "cell_type": "code",
   "execution_count": null,
   "id": "20ea01cb-43cc-4fde-a5b1-0610734729a2",
   "metadata": {},
   "outputs": [],
   "source": [
    "res = {}\n",
    "for key in D.obs['sample'].unique():\n",
    "    d = D[D.obs['sample']==key,:]\n",
    "    raw_counts = d.X\n",
    "    scrub = scr.Scrublet(raw_counts)\n",
    "    doublet_scores, predicted_doublets = scrub.scrub_doublets()\n",
    "    d.obs['ds'] = doublet_scores\n",
    "    d.obs['ps'] = predicted_doublets\n",
    "    res[key] = d"
   ]
  },
  {
   "cell_type": "code",
   "execution_count": null,
   "id": "3e74aa1d-db51-491f-ab13-f7cb59198481",
   "metadata": {},
   "outputs": [],
   "source": [
    "D = an.concat(list(res.values()))\n",
    "D.write('../ad/ad_raw_doublet_scores.h5ad')"
   ]
  }
 ],
 "metadata": {
  "kernelspec": {
   "display_name": "Python 3 (ipykernel)",
   "language": "python",
   "name": "python3"
  },
  "language_info": {
   "codemirror_mode": {
    "name": "ipython",
    "version": 3
   },
   "file_extension": ".py",
   "mimetype": "text/x-python",
   "name": "python",
   "nbconvert_exporter": "python",
   "pygments_lexer": "ipython3",
   "version": "3.9.12"
  }
 },
 "nbformat": 4,
 "nbformat_minor": 5
}
